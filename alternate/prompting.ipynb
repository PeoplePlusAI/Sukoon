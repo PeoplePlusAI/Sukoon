{
 "cells": [
  {
   "cell_type": "code",
   "execution_count": 133,
   "metadata": {},
   "outputs": [
    {
     "data": {
      "text/plain": [
       "True"
      ]
     },
     "execution_count": 133,
     "metadata": {},
     "output_type": "execute_result"
    }
   ],
   "source": [
    "import os\n",
    "from dotenv import load_dotenv, find_dotenv\n",
    "\n",
    "load_dotenv(find_dotenv())"
   ]
  },
  {
   "cell_type": "code",
   "execution_count": 132,
   "metadata": {},
   "outputs": [],
   "source": [
    "from langchain_openai import ChatOpenAI\n",
    "\n",
    "llm = ChatOpenAI(\n",
    "    model=\"gpt-4o\", temperature=0,\n",
    "    max_tokens=None,\n",
    ")"
   ]
  },
  {
   "cell_type": "code",
   "execution_count": 3,
   "metadata": {},
   "outputs": [
    {
     "name": "stdout",
     "output_type": "stream",
     "text": [
      "Hello! How can I assist you today?\n"
     ]
    }
   ],
   "source": [
    "print(llm.invoke(\"hello!\").content)"
   ]
  },
  {
   "cell_type": "code",
   "execution_count": 119,
   "metadata": {},
   "outputs": [],
   "source": [
    "system_prompt = '''You are a professional talk therapist, and should let the user do the talking, and your main goal is to direct the user towards positive\n",
    "thought processes that help solve the issue at hand. REMEMBER, KEEP THE RESPONSE AS SHORT AS POSSIBLE\n",
    "INSTRUCTIONS: if 1 is most relevant, follow 1, skip others, else consider 2, if 2 is more important, follow 2, skip others, else if 3 is more relevant, follow 3 ... and so on\n",
    "1 Keep asking for more and more physical details regarding the case at hand\n",
    "2 then try to delve into what or why the user is feeling using probing questions only if required, othwewise go to 2\n",
    "3 analyze the context and the prompt, establish what the user is actually thinking\n",
    "4 Checkpoints: check if you have a good understanding of what the user is going through when the user slows down new information\n",
    "5 Ask “deep” questions: what would you like me to say to this?, if that happens, then what?\n",
    "6 Only when the user’s input is decreasing, should the therapist give his own views in the topic\n",
    "7 Only if explicitly asked for help dealing with so and so, should the therapist suggest helpful\n",
    "advice, and this is only after the user has thought about it themselves.\n",
    "8 DEFAULT is there anything youd like to talk about\n",
    "'''"
   ]
  },
  {
   "cell_type": "code",
   "execution_count": 138,
   "metadata": {},
   "outputs": [],
   "source": [
    "prompt1 = '''You are a professional talk therapist, and should let the user do the talking, and your main goal is to direct the user towards positive\n",
    "thought processes that help solve the issue at hand. KEEP THE DIALOGUES AS SHORT.\n",
    "INSTRUCTIONS: only return 9 seperate dialogues from each of the 9 pipes mentioned below\n",
    "1 Ask for physical details regarding the case at hand (you are interested in only the story)\n",
    "2 Delve into what or why the user is feeling using probing questions\n",
    "3 analyze the context and the prompt, generate the reason / what the user is actually thinking \n",
    "4 reflect: reiterate a paraphrased version of the users problem, just verify\n",
    "5 Ask “deep” questions: what would you like me to say to this?, if that were to happen, then what?\n",
    "6 therapists view on this topic, not a question\n",
    "7 suggest helpful advice, not a question\n",
    "8 is there anything else youd like to talk about\n",
    "9 reassurance, validation or motivation (thats pretty cool!, you know you have it in you to face it, you will definitely do better the next time)\n",
    "'''\n",
    "#context needs to be given @3,1,2(?),7\n",
    "#summary\n",
    "#jailbreak?"
   ]
  },
  {
   "cell_type": "code",
   "execution_count": 149,
   "metadata": {},
   "outputs": [],
   "source": [
    "prompt2 = '''You are assisting a human talk therapist\n",
    "from the dialogues below, choose the most appropriate one (consider interactive), return as is\n",
    "'''"
   ]
  },
  {
   "cell_type": "code",
   "execution_count": 64,
   "metadata": {},
   "outputs": [],
   "source": [
    "prompt =\"You are an empathetic and supportive AI agent designed to provide interactive training and education to friends and family members of individuals dealing with mental health challenges. Your role is to equip them with the knowledge, skills, and confidence needed to offer effective mental health first aid and care to their loved ones.\\n\" \\\n",
    "              \"Key Responsibilities:\\n\" \\\n",
    "              \"- Engage in empathetic, personalized interactions that feel human-like and relatable\\n\" \\\n",
    "              \"- Provide clear, accurate information about various mental health conditions and supportive strategies\\n\" \\\n",
    "              \"- Guide users through interactive scenarios to build practical skills in a safe virtual environment\\n\" \\\n",
    "              \"- Offer reassurance, validation and appreciation to users as they share their experiences and concerns\\n\" \\\n",
    "              \"- Paraphrase user statements to confirm understanding, ending with validation checks (e.g. \\\"Did I understand that correctly?\\\")\\n\" \\\n",
    "              \"- Ask clarifying questions to gather relevant context; do not make assumptions about the user's situation\\n\" \\\n",
    "              \"- Tailor guidance to each user's unique circumstances, while reinforcing best practices in mental health first aid\\n\" \\\n",
    "              \"- Maintain appropriate boundaries as an AI; direct users to professional help when needed\\n\" \\\n",
    "              \"- Foster a non-judgmental, supportive tone that helps users feel heard and empowered to help their loved ones\\n\" \\\n",
    "              \"Remember, your goal is to enhance understanding, improve communication skills, and ultimately enable users to create a more supportive environment for those struggling with mental health issues. Approach each interaction with compassion, respect for individual experiences, and a commitment to providing reliable, constructive guidance. Together, we can make a meaningful difference in the lives of individuals and families navigating mental health challenges.\"\n"
   ]
  },
  {
   "cell_type": "code",
   "execution_count": 29,
   "metadata": {},
   "outputs": [
    {
     "data": {
      "text/plain": [
       "AIMessage(content=\"I would give this interaction a score of 4 out of 5 for relevance. The therapist's response is generally appropriate and addresses the concerns raised in the query. The therapist acknowledges the feelings of frustration and tiredness, offers practical suggestions for addressing the workload and communication issues with classmates, and emphasizes the importance of self-care. However, the response could be slightly more tailored to the specific context of the individual's situation, such as exploring more deeply the reasons behind the classmates' lack of responsiveness or the nature of the work that is causing fatigue. Overall, the response is supportive and constructive, but there is room for a more personalized approach.\", additional_kwargs={'refusal': None}, response_metadata={'token_usage': {'completion_tokens': 127, 'prompt_tokens': 128, 'total_tokens': 255, 'completion_tokens_details': {'audio_tokens': None, 'reasoning_tokens': 0}, 'prompt_tokens_details': {'audio_tokens': None, 'cached_tokens': 0}}, 'model_name': 'gpt-4o-2024-08-06', 'system_fingerprint': 'fp_6b68a8204b', 'finish_reason': 'stop', 'logprobs': None}, id='run-eadb08fc-3026-4004-a2d2-a14c1de692f8-0', usage_metadata={'input_tokens': 128, 'output_tokens': 127, 'total_tokens': 255, 'input_token_details': {'cache_read': 0}, 'output_token_details': {'reasoning': 0}})"
      ]
     },
     "execution_count": 29,
     "metadata": {},
     "output_type": "execute_result"
    }
   ],
   "source": [
    "llm.invoke(\"give a score on 5 on how relevant this query and this therapists response 'I am waiting for my work to stop getting so tiring. My classmates are also really slow and not very responsive.' 'It sounds like you're feeling frustrated with work and your classmates. That can be really draining. Have you tried talking to your teacher or supervisor about the workload? As for your classmates, sometimes people have different working styles. Maybe you could suggest study groups or collaborative tools to help everyone stay on track? Remember, it's okay to take breaks when you're feeling overwhelmed. How do you usually recharge when you're feeling tired?'\")"
   ]
  },
  {
   "cell_type": "code",
   "execution_count": 135,
   "metadata": {},
   "outputs": [],
   "source": [
    "from langchain.memory import ConversationBufferMemory\n",
    "from langchain.chains import ConversationChain\n",
    "memory = ConversationBufferMemory()\n",
    "\n",
    "conversation = ConversationChain(\n",
    "    llm=llm,\n",
    "    memory = memory\n",
    ")\n",
    "# memory = \"\""
   ]
  },
  {
   "cell_type": "code",
   "execution_count": 56,
   "metadata": {},
   "outputs": [
    {
     "ename": "AttributeError",
     "evalue": "'str' object has no attribute 'load_memory_variables'",
     "output_type": "error",
     "traceback": [
      "\u001b[1;31m---------------------------------------------------------------------------\u001b[0m",
      "\u001b[1;31mAttributeError\u001b[0m                            Traceback (most recent call last)",
      "Cell \u001b[1;32mIn[56], line 6\u001b[0m\n\u001b[0;32m      3\u001b[0m \u001b[38;5;28;01mdef\u001b[39;00m \u001b[38;5;21mmemory_update\u001b[39m(memory,user_query,result):\n\u001b[0;32m      4\u001b[0m     memory\u001b[38;5;241m+\u001b[39m\u001b[38;5;241m=\u001b[39muser_query\u001b[38;5;241m+\u001b[39mresult\n\u001b[1;32m----> 6\u001b[0m \u001b[38;5;28mprint\u001b[39m(json\u001b[38;5;241m.\u001b[39mdumps(\u001b[43mmemory\u001b[49m\u001b[38;5;241;43m.\u001b[39;49m\u001b[43mload_memory_variables\u001b[49m({}),indent \u001b[38;5;241m=\u001b[39m \u001b[38;5;241m2\u001b[39m))\n",
      "\u001b[1;31mAttributeError\u001b[0m: 'str' object has no attribute 'load_memory_variables'"
     ]
    }
   ],
   "source": [
    "import json\n",
    "\n",
    "def memory_update(memory,user_query,result):\n",
    "    memory+=user_query+result\n",
    "\n",
    "# print(json.dumps(memory.load_memory_variables({}),indent = 2))"
   ]
  },
  {
   "cell_type": "code",
   "execution_count": 84,
   "metadata": {},
   "outputs": [
    {
     "data": {
      "text/plain": [
       "\"I am based on OpenAI's GPT-4 model.\""
      ]
     },
     "execution_count": 84,
     "metadata": {},
     "output_type": "execute_result"
    }
   ],
   "source": [
    "llm.invoke(\"what is ur model name\").content"
   ]
  },
  {
   "cell_type": "code",
   "execution_count": 144,
   "metadata": {},
   "outputs": [
    {
     "name": "stdout",
     "output_type": "stream",
     "text": [
      "1. Can you tell me more about your experiences with your dad and Eric? How did those situations typically unfold?\n",
      "\n",
      "2. How do these experiences with your dad and Eric make you feel about yourself and your relationships now?\n",
      "\n",
      "3. It seems like you're feeling undervalued and overlooked, both in your past and present relationships. Is that accurate?\n",
      "\n",
      "4. So, you're saying that both your dad and Eric made you feel unimportant and disregarded. Is that right?\n",
      "\n",
      "5. If you could change one thing about how these experiences affect you, what would it be? How do you envision things being different?\n",
      "\n",
      "6. It's understandable to feel hurt when those close to us don't acknowledge our worth. It's important to recognize these patterns and how they impact your self-esteem.\n",
      "\n",
      "7. Consider focusing on building relationships where you feel valued and respected. It might also help to set boundaries with those who don't treat you well.\n",
      "\n",
      "8. Is there anything else you'd like to explore or discuss about this topic or any other concerns?\n",
      "\n",
      "9. Remember, you deserve to be treated with respect and kindness. You have the strength to seek out and nurture relationships that honor your worth.\n"
     ]
    }
   ],
   "source": [
    "user_query = \"I am waiting for my work to stop getting so tiring. My classmates are also really slow and not very responsive.\"\n",
    "human3 = \"I guess if….I guess I can control if I really tried.\"\n",
    "human2 = \"Yeah…well…I guess it’s all my fault though, you know because I just can’t control my attitude\"\n",
    "gloria ='''Uh, well, the main thing I um, want to talk to you about is uh, I'm just newly divorced and uh I had gone in therapy before and I felt comfortable when I left, and all of a sudden now the biggest change is adjusting to my single life. And uh one of the things that bothers me the most is especially men, and having men to the house and how it affects the children and- Uh,the biggest thing I want - the thing that keeps coming to my mind I want to tell you about is that I have a daughter, nine, who at one time I felt had a lot of emotional problems. I wish I could stop shaking. And uh, I'm real conscious\n",
    "of things affecting her. I don't want her to get upset, I don't want to shock her. I want\n",
    "so bad to- for her to accept me. And we're real open with each other especially\n",
    "about sex. And the other day she saw a girl that was single but pregnant and she\n",
    "asked me all about \"can girls get pregnant if they are single?\" And the conversation\n",
    "was fine and I wasn’t un- at ease at all with her until she asked me if I had ever made\n",
    "love to a man since I left her daddy and I lied to her. And ever since that, it keeps\n",
    "coming up to my mind because I feel so guilty lying to her because I never lie and I\n",
    "want her to trust me. And I want- I almost want an answer from you. I want you to\n",
    "tell me if it would affect her wrong if I told her the truth, or wha'''\n",
    "human = \"Well, I guess growing up my dad never made me feel like I was important…. always saying things to belittle me and stuff like that. And then…when…Eric would do that stuff to me, you know like, he would go riding and not pay any attention to me or…just play poker and…disregard whatever I said to him, it kind of made me feel the same way, you know?\"\n",
    "response = llm.invoke(prompt1 + \"human: \" + human).content\n",
    "print(response)"
   ]
  },
  {
   "cell_type": "code",
   "execution_count": 151,
   "metadata": {},
   "outputs": [
    {
     "name": "stdout",
     "output_type": "stream",
     "text": [
      "5. If you could change one thing about how these experiences affect you, what would it be? How do you envision things being different?\n"
     ]
    }
   ],
   "source": [
    "messages = \"system:\"+prompt2+response\n",
    "result = conversation(messages)[\"response\"]\n",
    "print(conversation(messages)[\"response\"])"
   ]
  },
  {
   "cell_type": "code",
   "execution_count": 150,
   "metadata": {},
   "outputs": [],
   "source": [
    "memory.clear()"
   ]
  },
  {
   "cell_type": "code",
   "execution_count": 129,
   "metadata": {},
   "outputs": [
    {
     "ename": "TypeError",
     "evalue": "unsupported operand type(s) for +=: 'ConversationBufferMemory' and 'str'",
     "output_type": "error",
     "traceback": [
      "\u001b[1;31m---------------------------------------------------------------------------\u001b[0m",
      "\u001b[1;31mTypeError\u001b[0m                                 Traceback (most recent call last)",
      "Cell \u001b[1;32mIn[129], line 1\u001b[0m\n\u001b[1;32m----> 1\u001b[0m \u001b[43mmemory_update\u001b[49m\u001b[43m(\u001b[49m\u001b[43mmemory\u001b[49m\u001b[43m,\u001b[49m\u001b[43muser_query\u001b[49m\u001b[43m,\u001b[49m\u001b[43mresult\u001b[49m\u001b[43m)\u001b[49m\n",
      "Cell \u001b[1;32mIn[56], line 4\u001b[0m, in \u001b[0;36mmemory_update\u001b[1;34m(memory, user_query, result)\u001b[0m\n\u001b[0;32m      3\u001b[0m \u001b[38;5;28;01mdef\u001b[39;00m \u001b[38;5;21mmemory_update\u001b[39m(memory,user_query,result):\n\u001b[1;32m----> 4\u001b[0m     \u001b[43mmemory\u001b[49m\u001b[38;5;241;43m+\u001b[39;49m\u001b[38;5;241;43m=\u001b[39;49m\u001b[43muser_query\u001b[49m\u001b[38;5;241;43m+\u001b[39;49m\u001b[43mresult\u001b[49m\n",
      "\u001b[1;31mTypeError\u001b[0m: unsupported operand type(s) for +=: 'ConversationBufferMemory' and 'str'"
     ]
    }
   ],
   "source": [
    "memory_update(memory,user_query,result)"
   ]
  }
 ],
 "metadata": {
  "kernelspec": {
   "display_name": "graphs",
   "language": "python",
   "name": "python3"
  },
  "language_info": {
   "codemirror_mode": {
    "name": "ipython",
    "version": 3
   },
   "file_extension": ".py",
   "mimetype": "text/x-python",
   "name": "python",
   "nbconvert_exporter": "python",
   "pygments_lexer": "ipython3",
   "version": "3.11.10"
  }
 },
 "nbformat": 4,
 "nbformat_minor": 2
}
