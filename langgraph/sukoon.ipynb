{
 "cells": [
  {
   "cell_type": "code",
   "execution_count": null,
   "metadata": {},
   "outputs": [],
   "source": [
    "# !apt-get install python3-dev graphviz libgraphviz-dev pkg-config\n",
    "\n",
    "# !pip install -qU \\\n",
    "#     langchain-openai==0.1.3 \\\n",
    "#     langchain==0.1.16 \\\n",
    "#     langchain-core==0.1.42 \\\n",
    "#     langgraph==0.0.37 \\\n",
    "#     langchainhub==0.1.15 \\\n",
    "#     pygraphviz==1.12  # for visualizing\n",
    "     "
   ]
  },
  {
   "cell_type": "code",
   "execution_count": null,
   "metadata": {},
   "outputs": [],
   "source": [
    "from typing import TypedDict, Annotated, List, Union\n",
    "\n"
   ]
  }
 ],
 "metadata": {
  "kernelspec": {
   "display_name": "crew",
   "language": "python",
   "name": "python3"
  },
  "language_info": {
   "name": "python",
   "version": "3.10.13"
  }
 },
 "nbformat": 4,
 "nbformat_minor": 2
}
