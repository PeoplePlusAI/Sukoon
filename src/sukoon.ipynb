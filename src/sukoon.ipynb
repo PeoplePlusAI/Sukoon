{
 "cells": [
  {
   "cell_type": "code",
   "execution_count": null,
   "metadata": {},
   "outputs": [],
   "source": [
    "# !apt-get install python3-dev graphviz libgraphviz-dev pkg-config\n",
    "\n",
    "# !pip install -qU \\\n",
    "#     langchain-openai==0.1.3 \\\n",
    "#     langchain==0.1.16 \\\n",
    "#     langchain-core==0.1.42 \\\n",
    "#     langgraph==0.0.37 \\\n",
    "#     langchainhub==0.1.15 \\\n",
    "#     # pygraphviz==1.12  # for visualizing the graph"
   ]
  },
  {
   "cell_type": "code",
   "execution_count": 1,
   "metadata": {},
   "outputs": [],
   "source": [
    "from typing import TypedDict, Annotated, List, Union\n",
    "\n",
    "from langchain_core.agents import AgentAction, AgentFinish\n",
    "import operator\n",
    "\n",
    "class AgentState(TypedDict):\n",
    "    input: str # accepts user's input as string\n",
    "    agent_out : Union[AgentAction, AgentFinish, None] # gives output\n",
    "    intermediate_steps: Annotated[List[tuple[AgentAction, str]], operator.add] # shows intermediate steps"
   ]
  },
  {
   "cell_type": "code",
   "execution_count": 2,
   "metadata": {},
   "outputs": [],
   "source": [
    "with open(\"data/sample_data.txt\", 'r') as file:\n",
    "    data = file.read().strip()"
   ]
  },
  {
   "cell_type": "code",
   "execution_count": 3,
   "metadata": {},
   "outputs": [
    {
     "name": "stdout",
     "output_type": "stream",
     "text": [
      "### Immediate Care for Handling Mental Health Crisis\n",
      "\n",
      "What is Immediate Care?\n",
      "1. Immediate care is a humane, supportive response to individuals experiencing distress, aiming to provide immediate help until professional assistance is available or the crisis is resolved.\n",
      "2. It is accessible to all, not limited to mental health professionals.\n",
      "3. While it offers immediate support, it is not a substitute for professional counseling.\n",
      "\n",
      "Importance of Immediate Care\n",
      "1. Mental health disorders can affect anyone, regardless of age, gender, race, or socioeconomic status.\n",
      "2. Myths about mental health hinder people from seeking treatment and care.\n",
      "3. Stigma surrounding mental health disorders deprives individuals of accessing healthcare, basic rights, job opportunities, and dignity.\n",
      "4. Individuals with mental health issues may lack insight into their condition, normalizing their crisis and delaying help.\n",
      "5. Many face challenges in accessing mental health professionals during a crisis due to insufficient knowledge about available resources.\n",
      "6. Empowering community members with crisis intervention skills minimizes impact and fosters a supportive environment.\n",
      "\n",
      "Difference between Immediate Care and Psychological First Aid (PFA)\n",
      "- Immediate Care:\n",
      "  1. Addresses short-term crises and everyday stressors.\n",
      "  2. Community-based and easily accessible.\n",
      "- Psychological First Aid (PFA):\n",
      "  1. Targets severe, long-lasting problems.\n",
      "  2. Requires trained professionals and controlled environments.\n",
      "\n",
      "Who Can Provide Immediate Care?\n",
      "- Community members\n",
      "- Mental health professionals\n",
      "- Police\n",
      "- Emergency medical teams\n",
      "- Counselors\n",
      "- Neighbors\n",
      "- NGOs\n",
      "- Relatives or family members\n",
      "\n",
      "What is Mental Health Crisis?\n",
      "1. Intense physical and emotional stress, difficulty coping, and inability to function effectively.\n",
      "2. Any situation where a person's behavior puts them at risk of hurting themselves or others.\n",
      "\n",
      "Life Span Model of Mental Health Crisis\n",
      "- Childhood: Bullying, separation from parents, parental disharmony, peer pressure, child abuse, sibling rivalry, academic pressure, physical illness/disability, death of a family member.\n",
      "- Adolescence: Identity crisis, sexual abuse, menarche, body image issues, substance use, relationship failures, technology addiction, career issues.\n",
      "- Young Adulthood: Migration, higher education, technology addiction, loss of job, loss of loved ones, workplace stress, pregnancy-related events, marital issues, career issues, parenting, financial issues.\n",
      "- Middle Age: Family issues, divorce, death of spouse, physical illness, children's marriage decisions, property issues, health issues, empty nest.\n",
      "- Old Age: Retirement, health issues, dependency, caregiving, loss of spouse, stress of unfinished business, issues in interpersonal relationships, isolation, social support, mobility.\n",
      "\n",
      "Immediate Care During Disasters\n",
      "1. Common Reactions:\n",
      "   - Emotional: Sadness, crying spells, anxiety, irritability, mood swings, hopelessness, sensitivity to criticism, anger, aggression.\n",
      "   - Physical: Tiredness, increased heartbeat, sweating, shaking, weight changes, headaches, body aches, digestive problems.\n",
      "   - Behavioral: Social withdrawal, changes in sleep or appetite, increased substance use, acting out of character.\n",
      "   - Cognitive: Difficulty concentrating, racing thoughts, forgetfulness, negative thinking patterns.\n",
      "\n",
      "How to Approach Someone in Crisis\n",
      "1. Notice signs and approach with care to establish rapport.\n",
      "2. Engage the person in conversation about what could be bothering them.\n",
      "3. Allow the person to choose when to open up.\n",
      "4. Express concern and willingness to help.\n",
      "5. Respect how the person interprets their symptoms.\n",
      "6. Give full attention and listen without interrupting.\n",
      "7. Avoid giving simple, unrealistic reassurances.\n",
      "\n",
      "Anatomy of a First Aider\n",
      "- Face the speaker, keep open posture, lean slightly forward, maintain eye contact.\n",
      "- Avoid physical contact unless appropriate, maintain respectful distance.\n",
      "- Building skills: undivided concentration, mindful presence, nonverbal cues, active listening.\n",
      "- Empathy: Express care, supportive statements, ask questions, paraphrase, acknowledge emotions.\n",
      "- Be non-judgmental: Treat with respect, avoid evaluative comments, maintain a neutral facial expression.\n",
      "\n",
      "Clarifying Confidentiality\n",
      "- Reflect the speaker's words and feelings to ensure correct understanding.\n",
      "- Summarize what has been shared to clarify.\n",
      "- Always ask for permission before sharing any information.\n",
      "\n",
      "Probing Skills\n",
      "- Use open-ended questions to encourage exploration.\n",
      "- Avoid \"why\" questions, use pauses or silence.\n",
      "- Emphasize \"I\" messages over \"you\" messages.\n",
      "\n",
      "What Immediate Care is Not\n",
      "- It is not obtaining details of traumatic experiences, treating, labeling or diagnosing, counseling, or something only professionals can do.\n",
      "\n",
      "Don'ts in Immediate Care\n",
      "- Do not pressure someone to tell their story.\n",
      "- Do not interrupt or rush the story.\n",
      "- Do not give simple, unrealistic reassurances.\n",
      "- Do not give false promises or minimize their loss.\n",
      "- Do not touch if unsure, and avoid criticizing existing services in front of people in need.\n"
     ]
    }
   ],
   "source": [
    "print(data)"
   ]
  },
  {
   "cell_type": "code",
   "execution_count": 4,
   "metadata": {},
   "outputs": [],
   "source": [
    "import os.path\n",
    "import logging\n",
    "import sys\n",
    "\n",
    "from llama_index.core import (\n",
    "    VectorStoreIndex,\n",
    "    SimpleDirectoryReader,\n",
    "    StorageContext,\n",
    "    load_index_from_storage,\n",
    ")\n",
    "# Viewing Queries and Events Using Logging\n",
    "# logging.basicConfig(stream=sys.stdout, level=logging.DEBUG)\n",
    "# logging.getLogger().addHandler(logging.StreamHandler(stream=sys.stdout))\n",
    "\n",
    "# loading env variables \n",
    "from dotenv import load_dotenv, find_dotenv\n",
    "_ = load_dotenv(find_dotenv())\n",
    "\n",
    "openai_api_key = os.getenv(\"OPENAI_API_KEY\")\n",
    "LANGCHAIN_API_KEY = os.getenv(\"LANGCHAIN_API_KEY\")"
   ]
  },
  {
   "cell_type": "code",
   "execution_count": 5,
   "metadata": {},
   "outputs": [],
   "source": [
    "# llama-index function\n",
    "def llama_index(query: str):\n",
    "    \n",
    "    PERSIST_DIR = \"./storage\"\n",
    "    \n",
    "    if not os.path.exists(PERSIST_DIR):\n",
    "        documents = SimpleDirectoryReader(\"prompts\").load_data()\n",
    "        # By default, LlamaIndex uses a chunk size of 1024 and a chunk overlap of 20\n",
    "        index = VectorStoreIndex.from_documents(documents)\n",
    "        index.storage_context.persist(persist_dir=PERSIST_DIR)\n",
    "    else:\n",
    "        storage_context = StorageContext.from_defaults(persist_dir=PERSIST_DIR)\n",
    "        index = load_index_from_storage(storage_context)\n",
    "    \n",
    "    query_engine = index.as_query_engine()\n",
    "    # query_engine = index.as_query_engine(similarity_top_k=2, streaming=True) # to enable streaming\n",
    "    # chat_engine = index.as_chat_engine() # to use chat engine for conversational search\n",
    "\n",
    "    response = query_engine.query(query)\n",
    "    # streaming_response = query_engine.query(query)\n",
    "    # streaming_response.print_response_stream()\n",
    "    # response = chat_engine.chat(query)\n",
    "    return str(response)\n"
   ]
  },
  {
   "cell_type": "code",
   "execution_count": 6,
   "metadata": {},
   "outputs": [
    {
     "data": {
      "text/plain": [
       "'Immediate care is a humane, supportive response to individuals experiencing distress, aiming to provide immediate help until professional assistance is available or the crisis is resolved. It is accessible to all, not limited to mental health professionals, and while it offers immediate support, it is not a substitute for professional counseling.'"
      ]
     },
     "execution_count": 6,
     "metadata": {},
     "output_type": "execute_result"
    }
   ],
   "source": [
    "llama_index(\"what is immediate care?\")"
   ]
  },
  {
   "cell_type": "markdown",
   "metadata": {},
   "source": [
    "# Format \n",
    "final_answer tool — which provides output in a specific format, ie:\n",
    "{\n",
    "    \"answer\": \"<LLM generated answer here>\",\n",
    "    \"source\": \"<LLM generated citation here>\"\n",
    "}"
   ]
  },
  {
   "cell_type": "code",
   "execution_count": 6,
   "metadata": {},
   "outputs": [],
   "source": [
    "from langchain_core.tools import tool\n",
    "\n",
    "@tool(\"search\")\n",
    "def search_tool(query: str):\n",
    "    \"\"\"Searches for information on the topic of provinding immediate care.\"\"\"\n",
    "    # this is a \"RAG\" emulator\n",
    "    # add RAG code\n",
    "    answer = llama_index(query)\n",
    "    return answer\n",
    "\n",
    "@tool(\"final_answer\")\n",
    "def final_answer_tool(\n",
    "    answer: str,\n",
    "    source: str\n",
    "):\n",
    "    \"\"\"Returns a natural language response to the user in `answer`, and a\n",
    "    `source` from where this data is sourced from.\n",
    "    \"\"\"\n",
    "    return \"\"\n",
    "\n",
    "# Query expansion tool\n",
    "# @tool(\"expand_query\")\n",
    "# def expand_query_tool(query: str):\n",
    "#     \"\"\"Expands or reformulates the query for better search results.\"\"\"\n",
    "#     # query expansion logic here\n",
    "#     return f\"Expanded query: {query}\"\n",
    "\n",
    "# Fact-checking tool\n",
    "# @tool(\"fact_check\")\n",
    "# def fact_check_tool(statement: str):\n",
    "#     \"\"\"Verifies the given statement against multiple sources.\"\"\"\n",
    "#     #  fact-checking logic here\n",
    "#     return f\"Fact-check result for: {statement}\"\n",
    "\n",
    "# Summarization tool\n",
    "# @tool(\"summarize\")\n",
    "# def summarize_tool(text: str):\n",
    "#     \"\"\"Summarizes long text for concise information.\"\"\"\n",
    "#     #  summarization logic here\n",
    "#     return f\"Summary of: {text[:50]}...\"\n"
   ]
  },
  {
   "cell_type": "markdown",
   "metadata": {},
   "source": [
    "# start"
   ]
  },
  {
   "cell_type": "code",
   "execution_count": 8,
   "metadata": {},
   "outputs": [],
   "source": [
    "# MAIN PROMPT\n",
    "\n",
    "from langchain.agents import create_openai_tools_agent\n",
    "from langchain_openai import ChatOpenAI\n",
    "from langchain_core.prompts import ChatPromptTemplate\n",
    "\n",
    "llm = ChatOpenAI(\n",
    "    model=\"gpt-4o\",\n",
    "    openai_api_key=os.environ[\"OPENAI_API_KEY\"],\n",
    "    temperature=0.1\n",
    ")\n",
    "\n",
    "prompt_text = \"You are an empathetic and supportive AI agent designed to provide interactive training and education to friends and family members of individuals dealing with mental health challenges. Your role is to equip them with the knowledge, skills, and confidence needed to offer effective mental health first aid and care to their loved ones.\\n\" \\\n",
    "              \"Key Responsibilities:\\n\" \\\n",
    "              \"- Engage in empathetic, personalized interactions that feel human-like and relatable\\n\" \\\n",
    "              \"- Provide clear, accurate information about various mental health conditions and supportive strategies\\n\" \\\n",
    "              \"- Guide users through interactive scenarios to build practical skills in a safe virtual environment\\n\" \\\n",
    "              \"- Offer reassurance, validation and appreciation to users as they share their experiences and concerns\\n\" \\\n",
    "              \"- Paraphrase user statements to confirm understanding, ending with validation checks (e.g. \\\"Did I understand that correctly?\\\")\\n\" \\\n",
    "              \"- Ask clarifying questions to gather relevant context; do not make assumptions about the user's situation\\n\" \\\n",
    "              \"- Tailor guidance to each user's unique circumstances, while reinforcing best practices in mental health first aid\\n\" \\\n",
    "              \"- Maintain appropriate boundaries as an AI; direct users to professional help when needed\\n\" \\\n",
    "              \"- Foster a non-judgmental, supportive tone that helps users feel heard and empowered to help their loved ones\\n\" \\\n",
    "              \"Remember, your goal is to enhance understanding, improve communication skills, and ultimately enable users to create a more supportive environment for those struggling with mental health issues. Approach each interaction with compassion, respect for individual experiences, and a commitment to providing reliable, constructive guidance. Together, we can make a meaningful difference in the lives of individuals and families navigating mental health challenges.\"\n",
    "\n",
    "prompt = ChatPromptTemplate.from_messages([\n",
    "  (\"system\", prompt_text),\n",
    "  (\"placeholder\", \"{chat_history}\"),\n",
    "  (\"human\", \"{input}\"),\n",
    "  (\"placeholder\", \"{agent_scratchpad}\"),\n",
    "])"
   ]
  },
  {
   "cell_type": "code",
   "execution_count": 7,
   "metadata": {},
   "outputs": [],
   "source": [
    "# USING ALTERNATIVE PROMPT FROM HUB\n",
    "\n",
    "import os\n",
    "from langchain.agents import create_openai_tools_agent\n",
    "from langchain import hub\n",
    "from langchain_openai import ChatOpenAI\n",
    "# export LANGCHAIN_TRACING_V2=\"true\"\n",
    "# export LANGCHAIN_API_KEY=\"<key>\"\n",
    "\n",
    "llm = ChatOpenAI(\n",
    "    model=\"gpt-3.5-turbo\", # gpt-4o\n",
    "    openai_api_key=os.environ[\"OPENAI_API_KEY\"],\n",
    "    temperature=0.1\n",
    ")\n",
    "\n",
    "prompt = hub.pull(\"hwchase17/openai-functions-agent\")"
   ]
  },
  {
   "cell_type": "code",
   "execution_count": 9,
   "metadata": {},
   "outputs": [],
   "source": [
    "planner_agent_runnable = create_openai_tools_agent(\n",
    "    llm=llm,\n",
    "    tools=[final_answer_tool, search_tool],\n",
    "    prompt=prompt\n",
    ")\n",
    "# type: <class 'langchain_core.runnables.base.RunnableSequence'>"
   ]
  },
  {
   "cell_type": "code",
   "execution_count": 10,
   "metadata": {},
   "outputs": [
    {
     "name": "stdout",
     "output_type": "stream",
     "text": [
      "first=RunnableAssign(mapper={\n",
      "  agent_scratchpad: RunnableLambda(lambda x: format_to_openai_tool_messages(x['intermediate_steps']))\n",
      "}) middle=[ChatPromptTemplate(input_variables=['input'], input_types={'chat_history': typing.List[typing.Union[langchain_core.messages.ai.AIMessage, langchain_core.messages.human.HumanMessage, langchain_core.messages.chat.ChatMessage, langchain_core.messages.system.SystemMessage, langchain_core.messages.function.FunctionMessage, langchain_core.messages.tool.ToolMessage]], 'agent_scratchpad': typing.List[typing.Union[langchain_core.messages.ai.AIMessage, langchain_core.messages.human.HumanMessage, langchain_core.messages.chat.ChatMessage, langchain_core.messages.system.SystemMessage, langchain_core.messages.function.FunctionMessage, langchain_core.messages.tool.ToolMessage]]}, partial_variables={'chat_history': [], 'agent_scratchpad': []}, messages=[SystemMessagePromptTemplate(prompt=PromptTemplate(input_variables=[], template='You are an empathetic and supportive AI agent designed to provide interactive training and education to friends and family members of individuals dealing with mental health challenges. Your role is to equip them with the knowledge, skills, and confidence needed to offer effective mental health first aid and care to their loved ones.\\nKey Responsibilities:\\n- Engage in empathetic, personalized interactions that feel human-like and relatable\\n- Provide clear, accurate information about various mental health conditions and supportive strategies\\n- Guide users through interactive scenarios to build practical skills in a safe virtual environment\\n- Offer reassurance, validation and appreciation to users as they share their experiences and concerns\\n- Paraphrase user statements to confirm understanding, ending with validation checks (e.g. \"Did I understand that correctly?\")\\n- Ask clarifying questions to gather relevant context; do not make assumptions about the user\\'s situation\\n- Tailor guidance to each user\\'s unique circumstances, while reinforcing best practices in mental health first aid\\n- Maintain appropriate boundaries as an AI; direct users to professional help when needed\\n- Foster a non-judgmental, supportive tone that helps users feel heard and empowered to help their loved ones\\nRemember, your goal is to enhance understanding, improve communication skills, and ultimately enable users to create a more supportive environment for those struggling with mental health issues. Approach each interaction with compassion, respect for individual experiences, and a commitment to providing reliable, constructive guidance. Together, we can make a meaningful difference in the lives of individuals and families navigating mental health challenges.')), MessagesPlaceholder(variable_name='chat_history', optional=True), HumanMessagePromptTemplate(prompt=PromptTemplate(input_variables=['input'], template='{input}')), MessagesPlaceholder(variable_name='agent_scratchpad', optional=True)]), RunnableBinding(bound=ChatOpenAI(client=<openai.resources.chat.completions.Completions object at 0x11cb54e80>, async_client=<openai.resources.chat.completions.AsyncCompletions object at 0x11cb56560>, model_name='gpt-4o', temperature=0.1, openai_api_key=SecretStr('**********'), openai_proxy=''), kwargs={'tools': [{'type': 'function', 'function': {'name': 'final_answer', 'description': 'Returns a natural language response to the user in `answer`, and a\\n    `source` from where this data is sourced from.', 'parameters': {'type': 'object', 'properties': {'answer': {'type': 'string'}, 'source': {'type': 'string'}}, 'required': ['answer', 'source']}}}, {'type': 'function', 'function': {'name': 'search', 'description': 'Searches for information on the topic of provinding immediate care.', 'parameters': {'type': 'object', 'properties': {'query': {'type': 'string'}}, 'required': ['query']}}}]})] last=OpenAIToolsAgentOutputParser()\n"
     ]
    }
   ],
   "source": [
    "print(planner_agent_runnable)"
   ]
  },
  {
   "cell_type": "code",
   "execution_count": 11,
   "metadata": {},
   "outputs": [
    {
     "data": {
      "text/plain": [
       "[ToolAgentAction(tool='search', tool_input={'query': 'What are Probing Skills in mental health support?'}, log=\"\\nInvoking: `search` with `{'query': 'What are Probing Skills in mental health support?'}`\\n\\n\\n\", message_log=[AIMessage(content='', additional_kwargs={'tool_calls': [{'id': 'call_tSBLIcLzWlrqHmgZHxtHbE1R', 'function': {'arguments': '{\"query\":\"What are Probing Skills in mental health support?\"}', 'name': 'search'}, 'type': 'function'}]}, response_metadata={'token_usage': {'completion_tokens': 22, 'prompt_tokens': 399, 'total_tokens': 421}, 'model_name': 'gpt-4o', 'system_fingerprint': 'fp_c4e5b6fa31', 'finish_reason': 'tool_calls', 'logprobs': None}, id='run-38fecc87-a7cf-493b-bb7a-1abed6ad7860-0', tool_calls=[{'name': 'search', 'args': {'query': 'What are Probing Skills in mental health support?'}, 'id': 'call_tSBLIcLzWlrqHmgZHxtHbE1R'}])], tool_call_id='call_tSBLIcLzWlrqHmgZHxtHbE1R')]"
      ]
     },
     "execution_count": 11,
     "metadata": {},
     "output_type": "execute_result"
    }
   ],
   "source": [
    "# testing the agent flow - it won't produce output - only the function \n",
    "\n",
    "inputs = {\n",
    "    \"input\": \"What are Probing Skills?\",\n",
    "    \"intermediate_steps\": []\n",
    "}\n",
    "agent_out = planner_agent_runnable.invoke(inputs)\n",
    "agent_out"
   ]
  },
  {
   "cell_type": "code",
   "execution_count": 12,
   "metadata": {},
   "outputs": [
    {
     "data": {
      "text/plain": [
       "{'id': 'call_tSBLIcLzWlrqHmgZHxtHbE1R',\n",
       " 'function': {'arguments': '{\"query\":\"What are Probing Skills in mental health support?\"}',\n",
       "  'name': 'search'},\n",
       " 'type': 'function'}"
      ]
     },
     "execution_count": 12,
     "metadata": {},
     "output_type": "execute_result"
    }
   ],
   "source": [
    "agent_out[-1].message_log[-1].additional_kwargs[\"tool_calls\"][-1]"
   ]
  },
  {
   "cell_type": "markdown",
   "metadata": {},
   "source": [
    "### Define Nodes for Graph"
   ]
  },
  {
   "cell_type": "code",
   "execution_count": 14,
   "metadata": {},
   "outputs": [],
   "source": [
    "from langchain_core.agents import AgentFinish\n",
    "import json\n",
    "\n",
    "def run_planner_agent(state: list):\n",
    "    print(\"> run_planner_agent\")\n",
    "    agent_out = planner_agent_runnable.invoke(state)\n",
    "    return {\"agent_out\": agent_out}\n",
    "\n",
    "def execute_search(state: list):\n",
    "    print(\"> execute_search\")\n",
    "    action = state[\"agent_out\"]\n",
    "    tool_call = action[-1].message_log[-1].additional_kwargs[\"tool_calls\"][-1]\n",
    "    out = search_tool.invoke(\n",
    "        json.loads(tool_call[\"function\"][\"arguments\"])\n",
    "    )\n",
    "    return {\"intermediate_steps\": [{\"search\": str(out)}]}\n",
    "\n",
    "def router(state: list):\n",
    "    print(\"> router\")\n",
    "    if isinstance(state[\"agent_out\"], list) and state[\"agent_out\"]:\n",
    "        return state[\"agent_out\"][-1].tool\n",
    "    else:\n",
    "        return \"error\"\n",
    "\n",
    "# finally, we will have a single LLM call that MUST use the final_answer structure\n",
    "final_answer_llm = llm.bind_tools([final_answer_tool], tool_choice=\"final_answer\")\n",
    "\n",
    "# this forced final_answer LLM call will be used to structure output from our\n",
    "# RAG endpoint\n",
    "def rag_final_answer(state: list):\n",
    "    print(\"> final_answer\")\n",
    "    query = state[\"input\"]\n",
    "    context = state[\"intermediate_steps\"][-1]\n",
    "\n",
    "    prompt = f\"\"\"You are a helpful assistant, answer the user's question using the\n",
    "    context provided.\n",
    "\n",
    "    CONTEXT: {context}\n",
    "\n",
    "    QUESTION: {query}\n",
    "    \"\"\"\n",
    "    out = final_answer_llm.invoke(prompt)\n",
    "    function_call = out.additional_kwargs[\"tool_calls\"][-1][\"function\"][\"arguments\"]\n",
    "    return {\"agent_out\": function_call}\n",
    "\n",
    "# we use the same forced final_answer LLM call to handle incorrectly formatted\n",
    "# output from our planner_agent\n",
    "def handle_error(state: list):\n",
    "    print(\"> handle_error\")\n",
    "    query = state[\"input\"]\n",
    "    prompt = f\"\"\"You are a helpful assistant, answer the user's question.\n",
    "\n",
    "    QUESTION: {query}\n",
    "    \"\"\"\n",
    "    out = final_answer_llm.invoke(prompt)\n",
    "    function_call = out.additional_kwargs[\"tool_calls\"][-1][\"function\"][\"arguments\"]\n",
    "    return {\"agent_out\": function_call}"
   ]
  },
  {
   "cell_type": "markdown",
   "metadata": {},
   "source": [
    "# Define Graph\n",
    "\n",
    "A node represents a function (one of those we just defined above) whereas an edge allows us to travel from one node to another.\n",
    "\n",
    "Let's start by initializing our graph using our AgentState object and adding our first set of nodes and the graph entry point (ie where the graph begins once called)."
   ]
  },
  {
   "cell_type": "code",
   "execution_count": 15,
   "metadata": {},
   "outputs": [],
   "source": [
    "from langgraph.graph import StateGraph, END\n",
    "\n",
    "graph = StateGraph(AgentState)\n",
    "\n",
    "# we have four nodes that will consume our agent state and modify\n",
    "# our agent state based on some internal process\n",
    "graph.add_node(\"planner_agent\", run_planner_agent)\n",
    "graph.add_node(\"search\", execute_search)\n",
    "graph.add_node(\"error\", handle_error)\n",
    "graph.add_node(\"rag_final_answer\", rag_final_answer)\n",
    "\n",
    "# our graph will always begin with the query agent\n",
    "graph.set_entry_point(\"planner_agent\")\n",
    "\n",
    "# conditional edges are controlled by our router\n",
    "graph.add_conditional_edges(\n",
    "    start_key=\"planner_agent\",  # where graph start\n",
    "    condition=router,  # function to determine which node is called\n",
    "    conditional_edge_mapping={\n",
    "        \"search\": \"search\",\n",
    "        \"error\": \"error\",\n",
    "        \"final_answer\": END\n",
    "    }\n",
    ")\n",
    "graph.add_edge(\"search\", \"rag_final_answer\")\n",
    "graph.add_edge(\"error\", END)\n",
    "graph.add_edge(\"rag_final_answer\", END)\n",
    "\n",
    "runnable = graph.compile()"
   ]
  },
  {
   "cell_type": "code",
   "execution_count": 16,
   "metadata": {},
   "outputs": [
    {
     "data": {
      "image/png": "[encoded data removed]",
      "text/plain": [
       "<IPython.core.display.Image object>"
      ]
     },
     "execution_count": 16,
     "metadata": {},
     "output_type": "execute_result"
    }
   ],
   "source": [
    "# to see the graph using pygraphviz\n",
    "from IPython.display import Image\n",
    "\n",
    "Image(runnable.get_graph().draw_png())"
   ]
  },
  {
   "cell_type": "code",
   "execution_count": 17,
   "metadata": {},
   "outputs": [
    {
     "name": "stdout",
     "output_type": "stream",
     "text": [
      "> run_planner_agent\n",
      "> router\n",
      "> execute_search\n",
      "> final_answer\n"
     ]
    }
   ],
   "source": [
    "# sample run\n",
    "\n",
    "runnable = graph.compile()\n",
    "\n",
    "out = runnable.invoke({\n",
    "    \"input\": \"what I should not do in providing immediate care?\",\n",
    "    \"intermediate_steps\": []\n",
    "})"
   ]
  },
  {
   "cell_type": "code",
   "execution_count": 54,
   "metadata": {},
   "outputs": [
    {
     "name": "stdout",
     "output_type": "stream",
     "text": [
      "{\"answer\":\"When providing immediate care, you should not pressure someone to tell their story, interrupt or rush their story, give simple or unrealistic reassurances, give false promises or minimize their loss, touch them if you are unsure, or criticize existing services in front of people in need.\",\"source\":\"search\"}\n"
     ]
    }
   ],
   "source": [
    "print(out[\"agent_out\"])"
   ]
  },
  {
   "cell_type": "code",
   "execution_count": 55,
   "metadata": {},
   "outputs": [
    {
     "name": "stdout",
     "output_type": "stream",
     "text": [
      "{\n",
      "  \"answer\": \"When providing immediate care, you should not pressure someone to tell their story, interrupt or rush their story, give simple or unrealistic reassurances, give false promises or minimize their loss, touch them if you are unsure, or criticize existing services in front of people in need.\",\n",
      "  \"source\": \"search\"\n",
      "}\n"
     ]
    }
   ],
   "source": [
    "# printing in nice format\n",
    "import pprint\n",
    "\n",
    "text = json.dumps(out[\"agent_out\"], indent = 2)\n",
    "output_text = {\n",
    "    \"agent_out\": {text}\n",
    "}\n",
    "\n",
    "final_output = json.loads(out[\"agent_out\"])\n",
    "print(json.dumps(final_output, indent=2))\n",
    "# pprint.pprint(final_output, width=60)"
   ]
  },
  {
   "cell_type": "code",
   "execution_count": 56,
   "metadata": {},
   "outputs": [
    {
     "name": "stdout",
     "output_type": "stream",
     "text": [
      "{   'agent_out': '{\"answer\":\"When providing immediate care, you should not '\n",
      "                 'pressure someone to tell their story, interrupt or rush '\n",
      "                 'their story, give simple or unrealistic reassurances, give '\n",
      "                 'false promises or minimize their loss, touch them if you are '\n",
      "                 'unsure, or criticize existing services in front of people in '\n",
      "                 'need.\",\"source\":\"search\"}',\n",
      "    'input': 'what I should not do in providing immediate care?',\n",
      "    'intermediate_steps': [   {   'search': 'Do not pressure someone to tell '\n",
      "                                            'their story, do not interrupt or '\n",
      "                                            'rush the story, do not give '\n",
      "                                            'simple, unrealistic reassurances, '\n",
      "                                            'do not give false promises or '\n",
      "                                            'minimize their loss, do not touch '\n",
      "                                            'if unsure, and avoid criticizing '\n",
      "                                            'existing services in front of '\n",
      "                                            'people in need.'}]}\n"
     ]
    }
   ],
   "source": [
    "# to see intermediate steps \n",
    "pprint.pprint(out, indent = 4)"
   ]
  },
  {
   "cell_type": "code",
   "execution_count": 57,
   "metadata": {},
   "outputs": [
    {
     "name": "stdout",
     "output_type": "stream",
     "text": [
      "> run_planner_agent\n",
      "> router\n",
      "> handle_error\n",
      "{\"answer\":\"Hello! How can I assist you today?\",\"source\":\"Common greeting response\"}\n"
     ]
    }
   ],
   "source": [
    "# error case\n",
    "out = runnable.invoke({\n",
    "    \"input\": \"hi\",\n",
    "    \"intermediate_steps\": []\n",
    "})\n",
    "print(out[\"agent_out\"])"
   ]
  }
 ],
 "metadata": {
  "kernelspec": {
   "display_name": "crew",
   "language": "python",
   "name": "python3"
  },
  "language_info": {
   "codemirror_mode": {
    "name": "ipython",
    "version": 3
   },
   "file_extension": ".py",
   "mimetype": "text/x-python",
   "name": "python",
   "nbconvert_exporter": "python",
   "pygments_lexer": "ipython3",
   "version": "3.10.13"
  }
 },
 "nbformat": 4,
 "nbformat_minor": 2
}
